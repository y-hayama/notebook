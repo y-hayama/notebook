{
  "nbformat": 4,
  "nbformat_minor": 0,
  "metadata": {
    "colab": {
      "provenance": [],
      "authorship_tag": "ABX9TyM1gz/GXV97JNwU39FH5sG0",
      "include_colab_link": true
    },
    "kernelspec": {
      "name": "python3",
      "display_name": "Python 3"
    },
    "language_info": {
      "name": "python"
    }
  },
  "cells": [
    {
      "cell_type": "markdown",
      "metadata": {
        "id": "view-in-github",
        "colab_type": "text"
      },
      "source": [
        "<a href=\"https://colab.research.google.com/github/y-hayama/notebook/blob/main/ocr_gpt.ipynb\" target=\"_parent\"><img src=\"https://colab.research.google.com/assets/colab-badge.svg\" alt=\"Open In Colab\"/></a>"
      ]
    },
    {
      "cell_type": "code",
      "execution_count": null,
      "metadata": {
        "colab": {
          "base_uri": "https://localhost:8080/"
        },
        "id": "-7y4B0zR-FIM",
        "outputId": "0df89977-8194-4fc9-f489-2085d4bcc17f"
      },
      "outputs": [
        {
          "output_type": "stream",
          "name": "stdout",
          "text": [
            "Requirement already satisfied: langchain in /usr/local/lib/python3.10/dist-packages (0.0.231)\n",
            "Requirement already satisfied: PyYAML>=5.4.1 in /usr/local/lib/python3.10/dist-packages (from langchain) (6.0)\n",
            "Requirement already satisfied: SQLAlchemy<3,>=1.4 in /usr/local/lib/python3.10/dist-packages (from langchain) (2.0.18)\n",
            "Requirement already satisfied: aiohttp<4.0.0,>=3.8.3 in /usr/local/lib/python3.10/dist-packages (from langchain) (3.8.4)\n",
            "Requirement already satisfied: async-timeout<5.0.0,>=4.0.0 in /usr/local/lib/python3.10/dist-packages (from langchain) (4.0.2)\n",
            "Requirement already satisfied: dataclasses-json<0.6.0,>=0.5.7 in /usr/local/lib/python3.10/dist-packages (from langchain) (0.5.9)\n",
            "Requirement already satisfied: langchainplus-sdk<0.0.21,>=0.0.20 in /usr/local/lib/python3.10/dist-packages (from langchain) (0.0.20)\n",
            "Requirement already satisfied: numexpr<3.0.0,>=2.8.4 in /usr/local/lib/python3.10/dist-packages (from langchain) (2.8.4)\n",
            "Requirement already satisfied: numpy<2,>=1 in /usr/local/lib/python3.10/dist-packages (from langchain) (1.22.4)\n",
            "Requirement already satisfied: openapi-schema-pydantic<2.0,>=1.2 in /usr/local/lib/python3.10/dist-packages (from langchain) (1.2.4)\n",
            "Requirement already satisfied: pydantic<2,>=1 in /usr/local/lib/python3.10/dist-packages (from langchain) (1.10.11)\n",
            "Requirement already satisfied: requests<3,>=2 in /usr/local/lib/python3.10/dist-packages (from langchain) (2.27.1)\n",
            "Requirement already satisfied: tenacity<9.0.0,>=8.1.0 in /usr/local/lib/python3.10/dist-packages (from langchain) (8.2.2)\n",
            "Requirement already satisfied: attrs>=17.3.0 in /usr/local/lib/python3.10/dist-packages (from aiohttp<4.0.0,>=3.8.3->langchain) (23.1.0)\n",
            "Requirement already satisfied: charset-normalizer<4.0,>=2.0 in /usr/local/lib/python3.10/dist-packages (from aiohttp<4.0.0,>=3.8.3->langchain) (2.0.12)\n",
            "Requirement already satisfied: multidict<7.0,>=4.5 in /usr/local/lib/python3.10/dist-packages (from aiohttp<4.0.0,>=3.8.3->langchain) (6.0.4)\n",
            "Requirement already satisfied: yarl<2.0,>=1.0 in /usr/local/lib/python3.10/dist-packages (from aiohttp<4.0.0,>=3.8.3->langchain) (1.9.2)\n",
            "Requirement already satisfied: frozenlist>=1.1.1 in /usr/local/lib/python3.10/dist-packages (from aiohttp<4.0.0,>=3.8.3->langchain) (1.3.3)\n",
            "Requirement already satisfied: aiosignal>=1.1.2 in /usr/local/lib/python3.10/dist-packages (from aiohttp<4.0.0,>=3.8.3->langchain) (1.3.1)\n",
            "Requirement already satisfied: marshmallow<4.0.0,>=3.3.0 in /usr/local/lib/python3.10/dist-packages (from dataclasses-json<0.6.0,>=0.5.7->langchain) (3.19.0)\n",
            "Requirement already satisfied: marshmallow-enum<2.0.0,>=1.5.1 in /usr/local/lib/python3.10/dist-packages (from dataclasses-json<0.6.0,>=0.5.7->langchain) (1.5.1)\n",
            "Requirement already satisfied: typing-inspect>=0.4.0 in /usr/local/lib/python3.10/dist-packages (from dataclasses-json<0.6.0,>=0.5.7->langchain) (0.9.0)\n",
            "Requirement already satisfied: typing-extensions>=4.2.0 in /usr/local/lib/python3.10/dist-packages (from pydantic<2,>=1->langchain) (4.7.1)\n",
            "Requirement already satisfied: urllib3<1.27,>=1.21.1 in /usr/local/lib/python3.10/dist-packages (from requests<3,>=2->langchain) (1.26.16)\n",
            "Requirement already satisfied: certifi>=2017.4.17 in /usr/local/lib/python3.10/dist-packages (from requests<3,>=2->langchain) (2023.5.7)\n",
            "Requirement already satisfied: idna<4,>=2.5 in /usr/local/lib/python3.10/dist-packages (from requests<3,>=2->langchain) (3.4)\n",
            "Requirement already satisfied: greenlet!=0.4.17 in /usr/local/lib/python3.10/dist-packages (from SQLAlchemy<3,>=1.4->langchain) (2.0.2)\n",
            "Requirement already satisfied: packaging>=17.0 in /usr/local/lib/python3.10/dist-packages (from marshmallow<4.0.0,>=3.3.0->dataclasses-json<0.6.0,>=0.5.7->langchain) (23.1)\n",
            "Requirement already satisfied: mypy-extensions>=0.3.0 in /usr/local/lib/python3.10/dist-packages (from typing-inspect>=0.4.0->dataclasses-json<0.6.0,>=0.5.7->langchain) (1.0.0)\n",
            "Requirement already satisfied: openai in /usr/local/lib/python3.10/dist-packages (0.27.8)\n",
            "Requirement already satisfied: requests>=2.20 in /usr/local/lib/python3.10/dist-packages (from openai) (2.27.1)\n",
            "Requirement already satisfied: tqdm in /usr/local/lib/python3.10/dist-packages (from openai) (4.65.0)\n",
            "Requirement already satisfied: aiohttp in /usr/local/lib/python3.10/dist-packages (from openai) (3.8.4)\n",
            "Requirement already satisfied: urllib3<1.27,>=1.21.1 in /usr/local/lib/python3.10/dist-packages (from requests>=2.20->openai) (1.26.16)\n",
            "Requirement already satisfied: certifi>=2017.4.17 in /usr/local/lib/python3.10/dist-packages (from requests>=2.20->openai) (2023.5.7)\n",
            "Requirement already satisfied: charset-normalizer~=2.0.0 in /usr/local/lib/python3.10/dist-packages (from requests>=2.20->openai) (2.0.12)\n",
            "Requirement already satisfied: idna<4,>=2.5 in /usr/local/lib/python3.10/dist-packages (from requests>=2.20->openai) (3.4)\n",
            "Requirement already satisfied: attrs>=17.3.0 in /usr/local/lib/python3.10/dist-packages (from aiohttp->openai) (23.1.0)\n",
            "Requirement already satisfied: multidict<7.0,>=4.5 in /usr/local/lib/python3.10/dist-packages (from aiohttp->openai) (6.0.4)\n",
            "Requirement already satisfied: async-timeout<5.0,>=4.0.0a3 in /usr/local/lib/python3.10/dist-packages (from aiohttp->openai) (4.0.2)\n",
            "Requirement already satisfied: yarl<2.0,>=1.0 in /usr/local/lib/python3.10/dist-packages (from aiohttp->openai) (1.9.2)\n",
            "Requirement already satisfied: frozenlist>=1.1.1 in /usr/local/lib/python3.10/dist-packages (from aiohttp->openai) (1.3.3)\n",
            "Requirement already satisfied: aiosignal>=1.1.2 in /usr/local/lib/python3.10/dist-packages (from aiohttp->openai) (1.3.1)\n",
            "Requirement already satisfied: PyPDF2 in /usr/local/lib/python3.10/dist-packages (3.0.1)\n",
            "Requirement already satisfied: pdfminer.six in /usr/local/lib/python3.10/dist-packages (20221105)\n",
            "Requirement already satisfied: charset-normalizer>=2.0.0 in /usr/local/lib/python3.10/dist-packages (from pdfminer.six) (2.0.12)\n",
            "Requirement already satisfied: cryptography>=36.0.0 in /usr/local/lib/python3.10/dist-packages (from pdfminer.six) (41.0.2)\n",
            "Requirement already satisfied: cffi>=1.12 in /usr/local/lib/python3.10/dist-packages (from cryptography>=36.0.0->pdfminer.six) (1.15.1)\n",
            "Requirement already satisfied: pycparser in /usr/local/lib/python3.10/dist-packages (from cffi>=1.12->cryptography>=36.0.0->pdfminer.six) (2.21)\n",
            "Collecting python-dotenv\n",
            "  Downloading python_dotenv-1.0.0-py3-none-any.whl (19 kB)\n",
            "Installing collected packages: python-dotenv\n",
            "Successfully installed python-dotenv-1.0.0\n"
          ]
        }
      ],
      "source": [
        "!pip install langchain\n",
        "!pip install openai\n",
        "!pip install PyPDF2\n",
        "!pip install pdfminer.six\n",
        "!pip install python-dotenv"
      ]
    },
    {
      "cell_type": "code",
      "source": [
        "import dotenv\n",
        "import os\n",
        "\n",
        "dotenv.load_dotenv('./env')\n",
        "print(os.environ['OPENAI_API_KEY'])\n"
      ],
      "metadata": {
        "id": "8HcHsWt_CsY9"
      },
      "execution_count": null,
      "outputs": []
    },
    {
      "cell_type": "code",
      "source": [
        "from typing import Callable\n",
        "import time\n",
        "\n",
        "def time_measure(func: Callable[..., any]) -> Callable[..., any]:\n",
        "    def wrapper(*args: any, **kwargs: any) -> any:\n",
        "        before = time.time()\n",
        "        result = func(*args, **kwargs)\n",
        "        after = time.time()\n",
        "        print(f\"{func.__name__} proccesing time: {after - before}s\")\n",
        "        return result\n",
        "\n",
        "    return wrapper"
      ],
      "metadata": {
        "id": "pcdgbnBSdn5m"
      },
      "execution_count": 84,
      "outputs": []
    },
    {
      "cell_type": "code",
      "source": [
        "import openai\n",
        "\n",
        "openai.api_key = os.environ[\"OPENAI_API_KEY\"]\n",
        "\n",
        "@time_measure\n",
        "def chat_completion(prompt, temperature=0):\n",
        "  messages=[\n",
        "    {\"role\": \"user\", \"content\": prompt}\n",
        "  ]\n",
        "  result = _chat_completion(messages, temperature)\n",
        "  # print(result)\n",
        "  return result.choices[0].message.content\n",
        "\n",
        "def _chat_completion(messages, temperature=0):\n",
        "  return openai.ChatCompletion.create(\n",
        "    model=\"gpt-3.5-turbo\",\n",
        "    messages=messages,\n",
        "    temperature=temperature,\n",
        "  )\n"
      ],
      "metadata": {
        "id": "vKqwqDmoCWMM"
      },
      "execution_count": 85,
      "outputs": []
    },
    {
      "cell_type": "code",
      "source": [
        "from pdfminer.pdfpage import PDFPage\n",
        "from pdfminer.pdfinterp import PDFResourceManager, PDFPageInterpreter\n",
        "from pdfminer.converter import TextConverter, PDFPageAggregator\n",
        "from pdfminer.layout import LAParams, LTContainer, LTTextBox\n",
        "from io import StringIO\n",
        "import pandas as pd"
      ],
      "metadata": {
        "id": "-NewYAer_crZ"
      },
      "execution_count": 54,
      "outputs": []
    },
    {
      "cell_type": "code",
      "source": [
        "#v1\n",
        "def pdf2txt(path):\n",
        "  with open(path, 'rb') as fp:\n",
        "    # 出力先をPythonコンソールするためにIOストリームを取得\n",
        "    with StringIO() as outfp:\n",
        "      # 各種テキスト抽出に必要なPdfminer.sixのオブジェクトを取得する処理\n",
        "      rmgr = PDFResourceManager() # PDFResourceManagerオブジェクトの取得\n",
        "      lprms = LAParams()          # LAParamsオブジェクトの取得\n",
        "      device = TextConverter(rmgr, outfp, laparams=lprms)    # TextConverterオブジェクトの取得\n",
        "      iprtr = PDFPageInterpreter(rmgr, device) # PDFPageInterpreterオブジェクトの取得\n",
        "\n",
        "      # PDFファイルから1ページずつ解析(テキスト抽出)処理する\n",
        "      for page in PDFPage.get_pages(fp):\n",
        "        iprtr.process_page(page)\n",
        "\n",
        "      text = outfp.getvalue()  # Pythonコンソールへの出力内容を取得\n",
        "      device.close() # TextConverterオブジェクトの解放\n",
        "\n",
        "  return text"
      ],
      "metadata": {
        "id": "QzwZcJEDA0H4"
      },
      "execution_count": 43,
      "outputs": []
    },
    {
      "cell_type": "code",
      "source": [
        "def find_textboxes(layout):\n",
        "  if isinstance(layout, LTTextBox):\n",
        "      return [layout]\n",
        "  elif isinstance(layout, LTContainer):\n",
        "      boxes = []\n",
        "      for child in layout:\n",
        "          boxes.extend(find_textboxes(child))\n",
        "      return boxes\n",
        "  else:\n",
        "      return []\n",
        "\n",
        "#v2\n",
        "@time_measure\n",
        "def pdf2txt(path):\n",
        "  with open(path, 'rb') as fp:\n",
        "    # 出力先をPythonコンソールするためにIOストリームを取得\n",
        "    with StringIO() as outfp:\n",
        "      # 各種テキスト抽出に必要なPdfminer.sixのオブジェクトを取得する処理\n",
        "      rmgr = PDFResourceManager() # PDFResourceManagerオブジェクトの取得\n",
        "      lprms = LAParams()          # LAParamsオブジェクトの取得\n",
        "      device = PDFPageAggregator(rmgr, laparams=LAParams())\n",
        "      iprtr = PDFPageInterpreter(rmgr, device) # PDFPageInterpreterオブジェクトの取得\n",
        "      df = pd.DataFrame()\n",
        "\n",
        "      # PDFファイルから1ページずつ解析(テキスト抽出)処理する\n",
        "      for page_no, page in enumerate(PDFPage.get_pages(fp), start=1):\n",
        "        iprtr.process_page(page)\n",
        "        #LTPageオブジェクトを取得\n",
        "        layout = device.get_result()\n",
        "        #1ページ内のテキストのまとまりのリストを取得\n",
        "        boxes = find_textboxes(layout)\n",
        "\n",
        "        #テキストひとまとまりごとに処理\n",
        "        for box in boxes:\n",
        "          df_page = pd.DataFrame({\n",
        "              \"x_start\":[box.x0],\n",
        "              \"x_end\"  :box.x1,\n",
        "              \"y_start\":box.y0,\n",
        "              \"y_end\"  :box.y1,\n",
        "              \"text\"   :box.get_text().strip(),\n",
        "              \"page\"   :page_no\n",
        "            })\n",
        "          df = pd.concat([df, df_page])\n",
        "\n",
        "      result = df.reset_index(drop=True)\n",
        "      device.close() # TextConverterオブジェクトの解放\n",
        "\n",
        "  return result.to_string()\n"
      ],
      "metadata": {
        "id": "QRDgVml_KcH7"
      },
      "execution_count": 86,
      "outputs": []
    },
    {
      "cell_type": "code",
      "source": [
        "text = pdf2txt(\"/content/pdf/2.pdf\")\n",
        "\n",
        "prompt = \"\"\"\n",
        "以下の表は請求書PDFから文字列を抽出した結果です。\n",
        "このデータは抽出した文字列とページ番号、文字列が含まれていた2つの座標から構成されています。\n",
        "\n",
        "---\n",
        "%text%\n",
        "---\n",
        "\n",
        "上記の表から請求金額、請求日、支払い期限、銀行名、支店名、口座名、口座番号、適格請求書発行事業者の登録番号とそれに対応する位置情報、ページ番号を以下のjsonフォーマットで取り出してください。\n",
        "また数字と日付についてはプログラムで処理しやすい形に正規化した結果も返却してください。\n",
        "与えられたデータ以外は使わず、見つからなかった項目はN/Aを返してください。\n",
        "\n",
        "フォーマット）\n",
        "{\n",
        "    '請求金額': {\n",
        "        'page': '<ページ番号>',\n",
        "        'value': '<抽出した値>',\n",
        "        'normalized_value': '<正規化した値>',\n",
        "        'poly': '<位置情報>'\n",
        "    }\n",
        "}\n",
        "\"\"\"\n",
        "\n",
        "result = chat_completion(prompt.replace('%text%', text))\n",
        "\n",
        "print(result)"
      ],
      "metadata": {
        "id": "oYul7wF4D4C_"
      },
      "execution_count": null,
      "outputs": []
    }
  ]
}